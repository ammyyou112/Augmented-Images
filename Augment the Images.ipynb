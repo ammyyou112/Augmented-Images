{
 "cells": [
  {
   "cell_type": "code",
   "execution_count": 1,
   "id": "84137da7",
   "metadata": {},
   "outputs": [],
   "source": [
    "import cv2\n",
    "import numpy as np\n",
    "import os"
   ]
  },
  {
   "cell_type": "code",
   "execution_count": 2,
   "id": "735b6ff4",
   "metadata": {},
   "outputs": [],
   "source": [
    "#create dir for output images\n",
    "output_dir = 'augmented imgs'\n",
    "if not os.path.exists(output_dir):\n",
    "    os.makedirs(output_dir)"
   ]
  },
  {
   "cell_type": "code",
   "execution_count": 3,
   "id": "0fb7a610",
   "metadata": {},
   "outputs": [],
   "source": [
    "#function to rotate images\n",
    "def rotate_imgs(img, angle):\n",
    "    rows, cols, _ = img.shape\n",
    "    M = cv2.getRotationMatrix2D((cols/2, rows/1), angle, 1)\n",
    "    dst = cv2.warpAffine(img, M, (cols, rows))\n",
    "    return dst"
   ]
  },
  {
   "cell_type": "code",
   "execution_count": 4,
   "id": "255719aa",
   "metadata": {},
   "outputs": [],
   "source": [
    "#function to change brightness\n",
    "def change_brightness(img):\n",
    "    hsv = cv2.cvtColor(img, cv2.COLOR_BGR2HSV)\n",
    "    brightness = np.random.uniform(low = 0.5, high = 1.5)\n",
    "    hsv[:, :, 2] = cv2.multiply(hsv[:, :, 2], brightness)\n",
    "    dst = cv2.cvtColor(hsv, cv2.COLOR_HSV2BGR)\n",
    "    return dst"
   ]
  },
  {
   "cell_type": "code",
   "execution_count": 5,
   "id": "d953aecb",
   "metadata": {},
   "outputs": [],
   "source": [
    "#function to add noise\n",
    "def add_noise(img):\n",
    "    noise = np.zeros(img.shape, np.uint8)\n",
    "    cv2.randn(noise, 0, 25)\n",
    "    dst = cv2.add(img, noise)\n",
    "    return dst"
   ]
  },
  {
   "cell_type": "code",
   "execution_count": 6,
   "id": "3c5e54f1",
   "metadata": {},
   "outputs": [],
   "source": [
    "#loop to add all function to images\n",
    "angles = range(5, 361, 5)\n",
    "num_rotaions = len(angles)\n",
    "num_brightness = 5\n",
    "num_noise = 5"
   ]
  },
  {
   "cell_type": "code",
   "execution_count": 7,
   "id": "63e00315",
   "metadata": {},
   "outputs": [],
   "source": [
    "for filename in os.listdir(\"cat_dog\"):\n",
    "    if filename.endswith('.jpg'):\n",
    "        img_path = os.path.join(\"cat_dog\", filename)\n",
    "        img = cv2.imread(img_path)\n",
    "        \n",
    "        #rotate images\n",
    "        for angle in angles:\n",
    "            dst = rotate_imgs(img, angle)\n",
    "            output_filename = os.path.splitext(filename)[0] + \"_\" + str(angle) + \"degree.jpg\"\n",
    "            output_path = os.path.join(output_dir, output_filename)\n",
    "            cv2.imwrite(output_path, dst)\n",
    "        #bright images   \n",
    "        for i in range(num_brightness):\n",
    "            dst = change_brightness(img)\n",
    "            output_filename = os.path.splitext(filename)[0] + \"_brightness\" + str(i+1) + '.jpg'\n",
    "            output_path = os.path.join(output_dir, output_filename)\n",
    "            cv2.imwrite(output_path, dst)\n",
    "        #noise images\n",
    "        for i in range(num_noise):\n",
    "            dst = add_noise(img)\n",
    "            output_filename = os.path.splitext(filename)[0] + \"_noise\" + str(i+1) + 'jpg'\n",
    "            output_path = os.path.join(output_dir, output_filename)\n",
    "            cv2.imwrite(output_path, dst)"
   ]
  },
  {
   "cell_type": "code",
   "execution_count": null,
   "id": "b46a21c7",
   "metadata": {},
   "outputs": [],
   "source": []
  }
 ],
 "metadata": {
  "kernelspec": {
   "display_name": "Python 3 (ipykernel)",
   "language": "python",
   "name": "python3"
  },
  "language_info": {
   "codemirror_mode": {
    "name": "ipython",
    "version": 3
   },
   "file_extension": ".py",
   "mimetype": "text/x-python",
   "name": "python",
   "nbconvert_exporter": "python",
   "pygments_lexer": "ipython3",
   "version": "3.9.13"
  }
 },
 "nbformat": 4,
 "nbformat_minor": 5
}
